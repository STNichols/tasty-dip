{
 "cells": [
  {
   "cell_type": "code",
   "execution_count": 89,
   "metadata": {},
   "outputs": [],
   "source": [
    "import datetime\n",
    "import numpy as np\n",
    "import pandas as pd\n",
    "from wallstreet import Stock, Call, Put\n",
    "import matplotlib.pyplot as plt\n",
    "import matplotlib.colors as colors\n",
    "\n",
    "ticker = \"PLTR\""
   ]
  },
  {
   "cell_type": "code",
   "execution_count": 90,
   "metadata": {},
   "outputs": [],
   "source": [
    "s = Stock(ticker)"
   ]
  },
  {
   "cell_type": "code",
   "execution_count": 91,
   "metadata": {},
   "outputs": [
    {
     "data": {
      "text/html": [
       "<div>\n",
       "<style scoped>\n",
       "    .dataframe tbody tr th:only-of-type {\n",
       "        vertical-align: middle;\n",
       "    }\n",
       "\n",
       "    .dataframe tbody tr th {\n",
       "        vertical-align: top;\n",
       "    }\n",
       "\n",
       "    .dataframe thead th {\n",
       "        text-align: right;\n",
       "    }\n",
       "</style>\n",
       "<table border=\"1\" class=\"dataframe\">\n",
       "  <thead>\n",
       "    <tr style=\"text-align: right;\">\n",
       "      <th></th>\n",
       "      <th>Date</th>\n",
       "      <th>Open</th>\n",
       "      <th>High</th>\n",
       "      <th>Low</th>\n",
       "      <th>Close</th>\n",
       "      <th>Adj Close</th>\n",
       "      <th>Volume</th>\n",
       "    </tr>\n",
       "  </thead>\n",
       "  <tbody>\n",
       "    <tr>\n",
       "      <th>0</th>\n",
       "      <td>2021-02-16</td>\n",
       "      <td>30.020000</td>\n",
       "      <td>30.440001</td>\n",
       "      <td>27.299999</td>\n",
       "      <td>27.84</td>\n",
       "      <td>27.84</td>\n",
       "      <td>180294300</td>\n",
       "    </tr>\n",
       "    <tr>\n",
       "      <th>1</th>\n",
       "      <td>2021-02-17</td>\n",
       "      <td>27.990000</td>\n",
       "      <td>29.730000</td>\n",
       "      <td>27.000000</td>\n",
       "      <td>27.08</td>\n",
       "      <td>27.08</td>\n",
       "      <td>151007000</td>\n",
       "    </tr>\n",
       "    <tr>\n",
       "      <th>2</th>\n",
       "      <td>2021-02-18</td>\n",
       "      <td>24.990000</td>\n",
       "      <td>26.309999</td>\n",
       "      <td>24.500000</td>\n",
       "      <td>25.17</td>\n",
       "      <td>25.17</td>\n",
       "      <td>313175100</td>\n",
       "    </tr>\n",
       "    <tr>\n",
       "      <th>3</th>\n",
       "      <td>2021-02-19</td>\n",
       "      <td>27.020000</td>\n",
       "      <td>29.959999</td>\n",
       "      <td>26.900000</td>\n",
       "      <td>29.00</td>\n",
       "      <td>29.00</td>\n",
       "      <td>320063700</td>\n",
       "    </tr>\n",
       "    <tr>\n",
       "      <th>4</th>\n",
       "      <td>2021-02-22</td>\n",
       "      <td>29.959999</td>\n",
       "      <td>30.190001</td>\n",
       "      <td>27.535999</td>\n",
       "      <td>28.00</td>\n",
       "      <td>28.00</td>\n",
       "      <td>183049500</td>\n",
       "    </tr>\n",
       "  </tbody>\n",
       "</table>\n",
       "</div>"
      ],
      "text/plain": [
       "        Date       Open       High        Low  Close  Adj Close     Volume\n",
       "0 2021-02-16  30.020000  30.440001  27.299999  27.84      27.84  180294300\n",
       "1 2021-02-17  27.990000  29.730000  27.000000  27.08      27.08  151007000\n",
       "2 2021-02-18  24.990000  26.309999  24.500000  25.17      25.17  313175100\n",
       "3 2021-02-19  27.020000  29.959999  26.900000  29.00      29.00  320063700\n",
       "4 2021-02-22  29.959999  30.190001  27.535999  28.00      28.00  183049500"
      ]
     },
     "execution_count": 91,
     "metadata": {},
     "output_type": "execute_result"
    }
   ],
   "source": [
    "hist = s.historical()\n",
    "hist.head()"
   ]
  },
  {
   "cell_type": "code",
   "execution_count": 92,
   "metadata": {},
   "outputs": [],
   "source": [
    "def collect_option_data(ticker, year, month, day, strict=True):\n",
    "    \"\"\" Collect the option data for the given date \"\"\"\n",
    "    \n",
    "    date = datetime.datetime(year=year, month=month, day=day)\n",
    "\n",
    "    dates = []\n",
    "    strikes = []\n",
    "    prices = []\n",
    "    prices_pc = []\n",
    "    \n",
    "    print(f\"Call for year:{year}, month:{month}, day:{day}\")\n",
    "\n",
    "    call_setup = False\n",
    "    attempts = 0\n",
    "    while not call_setup and attempts < 10:\n",
    "        try:\n",
    "            wc = Call(ticker, d=day, m=month, y=year, strict=strict)\n",
    "            print(\"Success!\")\n",
    "            call_setup = True\n",
    "        except:\n",
    "            attempts += 1\n",
    "    attempts = 0\n",
    "\n",
    "    if call_setup:\n",
    "        for cdata in wc.data:\n",
    "            strikes.append(cdata['strike'])\n",
    "            prices.append(cdata['lastPrice'])\n",
    "            prices_pc.append(cdata['percentChange'])\n",
    "            dates.append(date)\n",
    "\n",
    "    data = pd.DataFrame({'date':dates, 'price':prices, 'strike':strikes})\n",
    "\n",
    "    return data"
   ]
  },
  {
   "cell_type": "code",
   "execution_count": 87,
   "metadata": {},
   "outputs": [],
   "source": [
    "def calculate_percent_gains(strike_price, stock_price, call_price, n_calls=1):\n",
    "    \n",
    "    gains = (stock_price - strike_price) * 100 * n_calls\n",
    "    cost = call_price * 100 * n_calls\n",
    "    \n",
    "    percent_gains = (gains - cost) / cost\n",
    "    \n",
    "    return percent_gains"
   ]
  },
  {
   "cell_type": "code",
   "execution_count": 97,
   "metadata": {},
   "outputs": [
    {
     "data": {
      "text/plain": [
       "<matplotlib.lines.Line2D at 0x7a17ee67c3a0>"
      ]
     },
     "execution_count": 97,
     "metadata": {},
     "output_type": "execute_result"
    },
    {
     "data": {
      "image/png": "[encoded data removed]",
      "text/plain": [
       "<Figure size 1080x720 with 2 Axes>"
      ]
     },
     "metadata": {
      "needs_background": "light"
     },
     "output_type": "display_data"
    }
   ],
   "source": [
    "fig, ax = plt.subplots(figsize=(15,10))\n",
    "\n",
    "# Make data.\n",
    "strike_price = data['strike']\n",
    "stock_price = np.arange(0, data['strike'].max() * 1.5, s.price / 100)\n",
    "call_price_mesh = np.tile(data['price'].T, (len(stock_price), 1))\n",
    "strike_mesh, stock_mesh = np.meshgrid(strike_price, stock_price)\n",
    "percent_gains = calculate_percent_gains(strike_mesh, stock_mesh, call_price_mesh, n_calls=1)\n",
    "                          \n",
    "# Plot the surface.\n",
    "pg_min = percent_gains.min()\n",
    "pg_max = percent_gains.max()\n",
    "pos_array = np.concatenate((np.arange(0, 100, 5), np.arange(100, 1100, 100)))#, np.arange(1000, 10000, 1000)))\n",
    "bounds = np.sort(np.concatenate((-1 *pos_array, pos_array)))\n",
    "norm = colors.BoundaryNorm(boundaries=bounds, ncolors=256, clip=True)\n",
    "c = ax.pcolormesh(strike_mesh, stock_mesh, percent_gains, cmap='RdYlGn',\n",
    "                  norm=norm)\n",
    "\n",
    "ax.set_title(f'Call Options {ticker} {start_dt.month}/{start_dt.day}')\n",
    "ax.set_ylabel('Stock Price ($)')\n",
    "ax.set_xlabel('Strike Price ($)')\n",
    "cbar = fig.colorbar(c, ax=ax, extend='neither', orientation='vertical')\n",
    "cbar.set_label('Percent Gains (%)')\n",
    "\n",
    "ax.axhline(s.price, linestyle='--', color='black')"
   ]
  },
  {
   "cell_type": "code",
   "execution_count": null,
   "metadata": {},
   "outputs": [],
   "source": []
  }
 ],
 "metadata": {
  "kernelspec": {
   "display_name": "Python 3",
   "language": "python",
   "name": "python3"
  },
  "language_info": {
   "codemirror_mode": {
    "name": "ipython",
    "version": 3
   },
   "file_extension": ".py",
   "mimetype": "text/x-python",
   "name": "python",
   "nbconvert_exporter": "python",
   "pygments_lexer": "ipython3",
   "version": "3.8.2"
  }
 },
 "nbformat": 4,
 "nbformat_minor": 4
}
